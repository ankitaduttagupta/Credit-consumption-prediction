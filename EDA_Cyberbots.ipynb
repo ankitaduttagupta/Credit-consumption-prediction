{
 "cells": [
  {
   "cell_type": "code",
   "execution_count": 1,
   "metadata": {},
   "outputs": [],
   "source": [
    "import numpy as np\n",
    "import pandas as pd\n",
    "import matplotlib.pyplot as plt\n",
    "import random as rd\n",
    "from pandas import DataFrame\n",
    "import seaborn as sns\n",
    "from matplotlib.pyplot import figure"
   ]
  },
  {
   "cell_type": "markdown",
   "metadata": {},
   "source": [
    "## Read Data"
   ]
  },
  {
   "cell_type": "code",
   "execution_count": 2,
   "metadata": {},
   "outputs": [
    {
     "data": {
      "text/html": [
       "<div>\n",
       "<style scoped>\n",
       "    .dataframe tbody tr th:only-of-type {\n",
       "        vertical-align: middle;\n",
       "    }\n",
       "\n",
       "    .dataframe tbody tr th {\n",
       "        vertical-align: top;\n",
       "    }\n",
       "\n",
       "    .dataframe thead th {\n",
       "        text-align: right;\n",
       "    }\n",
       "</style>\n",
       "<table border=\"1\" class=\"dataframe\">\n",
       "  <thead>\n",
       "    <tr style=\"text-align: right;\">\n",
       "      <th></th>\n",
       "      <th>ID</th>\n",
       "      <th>account_type</th>\n",
       "      <th>gender</th>\n",
       "      <th>age</th>\n",
       "      <th>region_code</th>\n",
       "      <th>cc_cons_apr</th>\n",
       "      <th>dc_cons_apr</th>\n",
       "      <th>cc_cons_may</th>\n",
       "      <th>dc_cons_may</th>\n",
       "      <th>cc_cons_jun</th>\n",
       "      <th>...</th>\n",
       "      <th>credit_count_may</th>\n",
       "      <th>debit_count_may</th>\n",
       "      <th>max_credit_amount_may</th>\n",
       "      <th>debit_amount_jun</th>\n",
       "      <th>credit_amount_jun</th>\n",
       "      <th>credit_count_jun</th>\n",
       "      <th>debit_count_jun</th>\n",
       "      <th>max_credit_amount_jun</th>\n",
       "      <th>loan_enq</th>\n",
       "      <th>emi_active</th>\n",
       "    </tr>\n",
       "  </thead>\n",
       "  <tbody>\n",
       "    <tr>\n",
       "      <td>0</td>\n",
       "      <td>17591</td>\n",
       "      <td>current</td>\n",
       "      <td>M</td>\n",
       "      <td>37</td>\n",
       "      <td>575</td>\n",
       "      <td>2795.45</td>\n",
       "      <td>1290.0</td>\n",
       "      <td>6141.05</td>\n",
       "      <td>676.50</td>\n",
       "      <td>9146.1</td>\n",
       "      <td>...</td>\n",
       "      <td>24.0</td>\n",
       "      <td>20.0</td>\n",
       "      <td>9750.0</td>\n",
       "      <td>30527.88</td>\n",
       "      <td>31271.0</td>\n",
       "      <td>3.0</td>\n",
       "      <td>12.0</td>\n",
       "      <td>25945.92</td>\n",
       "      <td>Y</td>\n",
       "      <td>1170.49</td>\n",
       "    </tr>\n",
       "    <tr>\n",
       "      <td>1</td>\n",
       "      <td>13541</td>\n",
       "      <td>current</td>\n",
       "      <td>M</td>\n",
       "      <td>33</td>\n",
       "      <td>394</td>\n",
       "      <td>29405.13</td>\n",
       "      <td>1640.0</td>\n",
       "      <td>1670.00</td>\n",
       "      <td>2463.92</td>\n",
       "      <td>10947.5</td>\n",
       "      <td>...</td>\n",
       "      <td>43.0</td>\n",
       "      <td>40.0</td>\n",
       "      <td>16967.0</td>\n",
       "      <td>14342.83</td>\n",
       "      <td>16582.0</td>\n",
       "      <td>6.0</td>\n",
       "      <td>39.0</td>\n",
       "      <td>12214.00</td>\n",
       "      <td>Y</td>\n",
       "      <td>16447.45</td>\n",
       "    </tr>\n",
       "  </tbody>\n",
       "</table>\n",
       "<p>2 rows × 43 columns</p>\n",
       "</div>"
      ],
      "text/plain": [
       "      ID account_type gender  age  region_code  cc_cons_apr  dc_cons_apr  \\\n",
       "0  17591      current      M   37          575      2795.45       1290.0   \n",
       "1  13541      current      M   33          394     29405.13       1640.0   \n",
       "\n",
       "   cc_cons_may  dc_cons_may  cc_cons_jun  ...  credit_count_may  \\\n",
       "0      6141.05       676.50       9146.1  ...              24.0   \n",
       "1      1670.00      2463.92      10947.5  ...              43.0   \n",
       "\n",
       "   debit_count_may  max_credit_amount_may  debit_amount_jun  \\\n",
       "0             20.0                 9750.0          30527.88   \n",
       "1             40.0                16967.0          14342.83   \n",
       "\n",
       "   credit_amount_jun  credit_count_jun  debit_count_jun  \\\n",
       "0            31271.0               3.0             12.0   \n",
       "1            16582.0               6.0             39.0   \n",
       "\n",
       "   max_credit_amount_jun  loan_enq  emi_active  \n",
       "0               25945.92         Y     1170.49  \n",
       "1               12214.00         Y    16447.45  \n",
       "\n",
       "[2 rows x 43 columns]"
      ]
     },
     "execution_count": 2,
     "metadata": {},
     "output_type": "execute_result"
    }
   ],
   "source": [
    "df = pd.read_csv(\"C:/Users/heera/Desktop/GLabs_DSMP_New-masters/Train.csv\")\n",
    "test_data=pd.read_csv(\"C:/Users/heera/Desktop/GLabs_DSMP_New-masters/Test.csv\")\n",
    "path=\"C:/Users/heera/Desktop/GLabs_DSMP_New-masters/Test.csv\"\n",
    "df.head()\n",
    "test_data.head(2)"
   ]
  },
  {
   "cell_type": "markdown",
   "metadata": {},
   "source": [
    "## Drop Features and corelation"
   ]
  },
  {
   "cell_type": "code",
   "execution_count": 3,
   "metadata": {},
   "outputs": [
    {
     "name": "stdout",
     "output_type": "stream",
     "text": [
      "<class 'pandas.core.frame.DataFrame'>\n",
      "RangeIndex: 15000 entries, 0 to 14999\n",
      "Data columns (total 44 columns):\n",
      "ID                       15000 non-null int64\n",
      "account_type             15000 non-null object\n",
      "gender                   15000 non-null object\n",
      "age                      15000 non-null int64\n",
      "region_code              15000 non-null int64\n",
      "cc_cons_apr              15000 non-null float64\n",
      "dc_cons_apr              15000 non-null float64\n",
      "cc_cons_may              15000 non-null float64\n",
      "dc_cons_may              15000 non-null float64\n",
      "cc_cons_jun              15000 non-null float64\n",
      "dc_cons_jun              15000 non-null float64\n",
      "cc_count_apr             15000 non-null float64\n",
      "cc_count_may             15000 non-null float64\n",
      "cc_count_jun             15000 non-null float64\n",
      "dc_count_apr             15000 non-null float64\n",
      "dc_count_may             15000 non-null float64\n",
      "dc_count_jun             15000 non-null float64\n",
      "card_lim                 15000 non-null float64\n",
      "personal_loan_active     15000 non-null float64\n",
      "vehicle_loan_active      15000 non-null float64\n",
      "personal_loan_closed     15000 non-null float64\n",
      "vehicle_loan_closed      15000 non-null float64\n",
      "investment_1             15000 non-null float64\n",
      "investment_2             15000 non-null float64\n",
      "investment_3             15000 non-null float64\n",
      "investment_4             15000 non-null float64\n",
      "debit_amount_apr         15000 non-null float64\n",
      "credit_amount_apr        15000 non-null float64\n",
      "debit_count_apr          15000 non-null float64\n",
      "credit_count_apr         15000 non-null float64\n",
      "max_credit_amount_apr    15000 non-null float64\n",
      "debit_amount_may         15000 non-null float64\n",
      "credit_amount_may        15000 non-null float64\n",
      "credit_count_may         15000 non-null float64\n",
      "debit_count_may          15000 non-null float64\n",
      "max_credit_amount_may    15000 non-null float64\n",
      "debit_amount_jun         15000 non-null float64\n",
      "credit_amount_jun        15000 non-null float64\n",
      "credit_count_jun         15000 non-null float64\n",
      "debit_count_jun          15000 non-null float64\n",
      "max_credit_amount_jun    15000 non-null float64\n",
      "loan_enq                 15000 non-null object\n",
      "emi_active               15000 non-null float64\n",
      "cc_cons                  15000 non-null float64\n",
      "dtypes: float64(38), int64(3), object(3)\n",
      "memory usage: 5.0+ MB\n"
     ]
    },
    {
     "data": {
      "text/plain": [
       "region_code             -0.018824\n",
       "credit_amount_jun       -0.013026\n",
       "investment_3            -0.011453\n",
       "cc_count_apr            -0.009760\n",
       "age                     -0.006965\n",
       "dc_count_jun            -0.006193\n",
       "debit_amount_jun        -0.005573\n",
       "debit_count_jun         -0.005336\n",
       "emi_active              -0.004143\n",
       "max_credit_amount_apr   -0.003502\n",
       "card_lim                -0.003155\n",
       "credit_count_apr        -0.002170\n",
       "credit_amount_may       -0.002064\n",
       "cc_count_jun            -0.002005\n",
       "debit_count_apr         -0.001350\n",
       "cc_cons_jun             -0.000900\n",
       "dc_count_apr            -0.000758\n",
       "dc_cons_may             -0.000642\n",
       "debit_amount_may        -0.000577\n",
       "debit_count_may         -0.000374\n",
       "dc_cons_apr             -0.000126\n",
       "dc_cons_jun              0.002863\n",
       "debit_amount_apr         0.003937\n",
       "investment_1             0.004086\n",
       "ID                       0.004666\n",
       "credit_count_jun         0.005108\n",
       "credit_amount_apr        0.005293\n",
       "cc_cons_apr              0.006155\n",
       "dc_count_may             0.007711\n",
       "max_credit_amount_jun    0.007843\n",
       "max_credit_amount_may    0.008531\n",
       "investment_2             0.008877\n",
       "investment_4             0.009888\n",
       "credit_count_may         0.013488\n",
       "cc_count_may             0.016433\n",
       "cc_cons_may              0.021822\n",
       "cc_cons                  1.000000\n",
       "dtype: float64"
      ]
     },
     "execution_count": 3,
     "metadata": {},
     "output_type": "execute_result"
    }
   ],
   "source": [
    "df.describe()\n",
    "df.info()\n",
    "df['investment_4'] = df['investment_4'].abs()\n",
    "df.drop([\"personal_loan_active\",\"vehicle_loan_active\",\"personal_loan_closed\",\"vehicle_loan_closed\",\"loan_enq\"],axis=1,inplace=True)\n",
    "test_data['investment_4'] = test_data['investment_4'].abs()\n",
    "test_data.drop([\"personal_loan_active\",\"vehicle_loan_active\",\"personal_loan_closed\",\"vehicle_loan_closed\",\"loan_enq\"],axis=1,inplace=True)\n",
    "df.corrwith(df['cc_cons'],axis=0).sort_values(ascending=True)"
   ]
  },
  {
   "cell_type": "code",
   "execution_count": 4,
   "metadata": {},
   "outputs": [],
   "source": [
    "##Remove Outliers IQR Score"
   ]
  },
  {
   "cell_type": "code",
   "execution_count": 5,
   "metadata": {},
   "outputs": [
    {
     "data": {
      "text/html": [
       "<div>\n",
       "<style scoped>\n",
       "    .dataframe tbody tr th:only-of-type {\n",
       "        vertical-align: middle;\n",
       "    }\n",
       "\n",
       "    .dataframe tbody tr th {\n",
       "        vertical-align: top;\n",
       "    }\n",
       "\n",
       "    .dataframe thead th {\n",
       "        text-align: right;\n",
       "    }\n",
       "</style>\n",
       "<table border=\"1\" class=\"dataframe\">\n",
       "  <thead>\n",
       "    <tr style=\"text-align: right;\">\n",
       "      <th></th>\n",
       "      <th>ID</th>\n",
       "      <th>account_type</th>\n",
       "      <th>gender</th>\n",
       "      <th>age</th>\n",
       "      <th>region_code</th>\n",
       "      <th>cc_cons_apr</th>\n",
       "      <th>dc_cons_apr</th>\n",
       "      <th>cc_cons_may</th>\n",
       "      <th>dc_cons_may</th>\n",
       "      <th>cc_cons_jun</th>\n",
       "      <th>...</th>\n",
       "      <th>credit_count_may</th>\n",
       "      <th>debit_count_may</th>\n",
       "      <th>max_credit_amount_may</th>\n",
       "      <th>debit_amount_jun</th>\n",
       "      <th>credit_amount_jun</th>\n",
       "      <th>credit_count_jun</th>\n",
       "      <th>debit_count_jun</th>\n",
       "      <th>max_credit_amount_jun</th>\n",
       "      <th>emi_active</th>\n",
       "      <th>cc_cons</th>\n",
       "    </tr>\n",
       "  </thead>\n",
       "  <tbody>\n",
       "    <tr>\n",
       "      <td>0</td>\n",
       "      <td>12554</td>\n",
       "      <td>current</td>\n",
       "      <td>M</td>\n",
       "      <td>35</td>\n",
       "      <td>708</td>\n",
       "      <td>24893.00</td>\n",
       "      <td>378.00</td>\n",
       "      <td>10288.00</td>\n",
       "      <td>29664.00</td>\n",
       "      <td>16291.40</td>\n",
       "      <td>...</td>\n",
       "      <td>2.0</td>\n",
       "      <td>40.0</td>\n",
       "      <td>24563.0</td>\n",
       "      <td>30051.32</td>\n",
       "      <td>12761.0</td>\n",
       "      <td>2.0</td>\n",
       "      <td>65.0</td>\n",
       "      <td>50836.0</td>\n",
       "      <td>1674.09</td>\n",
       "      <td>20014.0</td>\n",
       "    </tr>\n",
       "    <tr>\n",
       "      <td>1</td>\n",
       "      <td>17645</td>\n",
       "      <td>current</td>\n",
       "      <td>M</td>\n",
       "      <td>35</td>\n",
       "      <td>123</td>\n",
       "      <td>18941.62</td>\n",
       "      <td>966.00</td>\n",
       "      <td>20672.00</td>\n",
       "      <td>287.00</td>\n",
       "      <td>4217.00</td>\n",
       "      <td>...</td>\n",
       "      <td>2.0</td>\n",
       "      <td>78.0</td>\n",
       "      <td>23948.0</td>\n",
       "      <td>42119.05</td>\n",
       "      <td>76206.0</td>\n",
       "      <td>21.0</td>\n",
       "      <td>63.0</td>\n",
       "      <td>23226.0</td>\n",
       "      <td>13043.34</td>\n",
       "      <td>10173.0</td>\n",
       "    </tr>\n",
       "    <tr>\n",
       "      <td>2</td>\n",
       "      <td>7604</td>\n",
       "      <td>current</td>\n",
       "      <td>M</td>\n",
       "      <td>55</td>\n",
       "      <td>802</td>\n",
       "      <td>5678.87</td>\n",
       "      <td>2724.00</td>\n",
       "      <td>1964.50</td>\n",
       "      <td>3933.11</td>\n",
       "      <td>23956.25</td>\n",
       "      <td>...</td>\n",
       "      <td>2.0</td>\n",
       "      <td>82.0</td>\n",
       "      <td>10752.0</td>\n",
       "      <td>58373.25</td>\n",
       "      <td>75283.0</td>\n",
       "      <td>7.0</td>\n",
       "      <td>1.0</td>\n",
       "      <td>27036.0</td>\n",
       "      <td>25375.27</td>\n",
       "      <td>16095.0</td>\n",
       "    </tr>\n",
       "    <tr>\n",
       "      <td>3</td>\n",
       "      <td>1590</td>\n",
       "      <td>current</td>\n",
       "      <td>F</td>\n",
       "      <td>29</td>\n",
       "      <td>867</td>\n",
       "      <td>30489.50</td>\n",
       "      <td>1236.00</td>\n",
       "      <td>12609.88</td>\n",
       "      <td>9138.14</td>\n",
       "      <td>17521.00</td>\n",
       "      <td>...</td>\n",
       "      <td>23.0</td>\n",
       "      <td>38.0</td>\n",
       "      <td>12607.0</td>\n",
       "      <td>69851.51</td>\n",
       "      <td>68708.0</td>\n",
       "      <td>21.0</td>\n",
       "      <td>83.0</td>\n",
       "      <td>43037.0</td>\n",
       "      <td>3544.33</td>\n",
       "      <td>7707.0</td>\n",
       "    </tr>\n",
       "    <tr>\n",
       "      <td>4</td>\n",
       "      <td>16556</td>\n",
       "      <td>current</td>\n",
       "      <td>M</td>\n",
       "      <td>34</td>\n",
       "      <td>802</td>\n",
       "      <td>7441.40</td>\n",
       "      <td>6906.04</td>\n",
       "      <td>4364.00</td>\n",
       "      <td>1939.00</td>\n",
       "      <td>2121.00</td>\n",
       "      <td>...</td>\n",
       "      <td>24.0</td>\n",
       "      <td>50.0</td>\n",
       "      <td>25213.0</td>\n",
       "      <td>10071.00</td>\n",
       "      <td>80140.0</td>\n",
       "      <td>8.0</td>\n",
       "      <td>32.0</td>\n",
       "      <td>32044.0</td>\n",
       "      <td>12780.44</td>\n",
       "      <td>96408.0</td>\n",
       "    </tr>\n",
       "  </tbody>\n",
       "</table>\n",
       "<p>5 rows × 39 columns</p>\n",
       "</div>"
      ],
      "text/plain": [
       "      ID account_type gender  age  region_code  cc_cons_apr  dc_cons_apr  \\\n",
       "0  12554      current      M   35          708     24893.00       378.00   \n",
       "1  17645      current      M   35          123     18941.62       966.00   \n",
       "2   7604      current      M   55          802      5678.87      2724.00   \n",
       "3   1590      current      F   29          867     30489.50      1236.00   \n",
       "4  16556      current      M   34          802      7441.40      6906.04   \n",
       "\n",
       "   cc_cons_may  dc_cons_may  cc_cons_jun  ...  credit_count_may  \\\n",
       "0     10288.00     29664.00     16291.40  ...               2.0   \n",
       "1     20672.00       287.00      4217.00  ...               2.0   \n",
       "2      1964.50      3933.11     23956.25  ...               2.0   \n",
       "3     12609.88      9138.14     17521.00  ...              23.0   \n",
       "4      4364.00      1939.00      2121.00  ...              24.0   \n",
       "\n",
       "   debit_count_may  max_credit_amount_may  debit_amount_jun  \\\n",
       "0             40.0                24563.0          30051.32   \n",
       "1             78.0                23948.0          42119.05   \n",
       "2             82.0                10752.0          58373.25   \n",
       "3             38.0                12607.0          69851.51   \n",
       "4             50.0                25213.0          10071.00   \n",
       "\n",
       "   credit_amount_jun  credit_count_jun  debit_count_jun  \\\n",
       "0            12761.0               2.0             65.0   \n",
       "1            76206.0              21.0             63.0   \n",
       "2            75283.0               7.0              1.0   \n",
       "3            68708.0              21.0             83.0   \n",
       "4            80140.0               8.0             32.0   \n",
       "\n",
       "   max_credit_amount_jun  emi_active  cc_cons  \n",
       "0                50836.0     1674.09  20014.0  \n",
       "1                23226.0    13043.34  10173.0  \n",
       "2                27036.0    25375.27  16095.0  \n",
       "3                43037.0     3544.33   7707.0  \n",
       "4                32044.0    12780.44  96408.0  \n",
       "\n",
       "[5 rows x 39 columns]"
      ]
     },
     "execution_count": 5,
     "metadata": {},
     "output_type": "execute_result"
    }
   ],
   "source": [
    "q1 = df.quantile(0.05)  # 0.25\n",
    "q3 = df.quantile(0.95)  # 0.75\n",
    "iqr = q3 - q1\n",
    "df = df[~((df < (q1 - 1.5 * iqr)) | (df > (q3 + 1.5 * iqr))).any(axis=1)]\n",
    "df.head(5)"
   ]
  },
  {
   "cell_type": "code",
   "execution_count": 6,
   "metadata": {},
   "outputs": [
    {
     "data": {
      "text/plain": [
       "<matplotlib.axes._subplots.AxesSubplot at 0x21430b71248>"
      ]
     },
     "execution_count": 6,
     "metadata": {},
     "output_type": "execute_result"
    },
    {
     "data": {
      "image/png": "[encoded data removed]",
      "text/plain": [
       "<Figure size 432x288 with 1 Axes>"
      ]
     },
     "metadata": {
      "needs_background": "light"
     },
     "output_type": "display_data"
    }
   ],
   "source": [
    "#Distribution of amount spent by credit card by Men and Women\n",
    "\n",
    "df['cons_total']=df['cc_cons_apr']+df['cc_cons_may']+df['cc_cons_jun']\n",
    "sns.barplot(x='gender', y='cons_total', data = df)\n"
   ]
  },
  {
   "cell_type": "code",
   "execution_count": 7,
   "metadata": {},
   "outputs": [
    {
     "data": {
      "text/plain": [
       "<matplotlib.axes._subplots.AxesSubplot at 0x21430c2f348>"
      ]
     },
     "execution_count": 7,
     "metadata": {},
     "output_type": "execute_result"
    },
    {
     "data": {
      "image/png": "[encoded data removed]",
      "text/plain": [
       "<Figure size 432x288 with 1 Axes>"
      ]
     },
     "metadata": {
      "needs_background": "light"
     },
     "output_type": "display_data"
    }
   ],
   "source": [
    "#Ages classified in bins and Distribution of Age ranf=ge with cc_cons\n",
    "labels = ['less than 20', '20-56', '57-69','70+']\n",
    "#ages['agerange'] = pd.cut(ages, bins, labels = labels,include_lowest = True)\n",
    "df['age_range'] = pd.cut(x=df['age'], bins=[20, 29, 39, 49,59])\n",
    "df\n",
    "sns.barplot(x='age_range', y='cc_cons',hue='gender', data = df)"
   ]
  },
  {
   "cell_type": "code",
   "execution_count": 8,
   "metadata": {},
   "outputs": [
    {
     "data": {
      "text/plain": [
       "<matplotlib.axes._subplots.AxesSubplot at 0x21430ce30c8>"
      ]
     },
     "execution_count": 8,
     "metadata": {},
     "output_type": "execute_result"
    },
    {
     "data": {
      "image/png": "[encoded data removed]",
      "text/plain": [
       "<Figure size 432x288 with 1 Axes>"
      ]
     },
     "metadata": {
      "needs_background": "light"
     },
     "output_type": "display_data"
    }
   ],
   "source": [
    "#Distribution of amount spent  by Men and Women classified with age\n",
    "df['Amount Spent']=df['max_credit_amount_apr']+df['max_credit_amount_may']+df['max_credit_amount_jun']\n",
    "sns.barplot(x='age_range', y='Amount Spent',hue='gender', data = df)"
   ]
  },
  {
   "cell_type": "code",
   "execution_count": 9,
   "metadata": {},
   "outputs": [
    {
     "data": {
      "text/plain": [
       "<matplotlib.axes._subplots.AxesSubplot at 0x21430d72088>"
      ]
     },
     "execution_count": 9,
     "metadata": {},
     "output_type": "execute_result"
    },
    {
     "data": {
      "image/png": "[encoded data removed]",
      "text/plain": [
       "<Figure size 432x288 with 1 Axes>"
      ]
     },
     "metadata": {
      "needs_background": "light"
     },
     "output_type": "display_data"
    }
   ],
   "source": [
    "#Distribution of Total Investment  by Men and Women classified with age\n",
    "df['investment']=df['investment_1']+df[\"investment_2\"]+df[\"investment_3\"]+df[\"investment_4\"]\n",
    "sns.barplot(x='age_range', y='investment',hue='gender', data = df)\n"
   ]
  },
  {
   "cell_type": "code",
   "execution_count": 10,
   "metadata": {},
   "outputs": [
    {
     "data": {
      "text/plain": [
       "<matplotlib.axes._subplots.AxesSubplot at 0x21430e24dc8>"
      ]
     },
     "execution_count": 10,
     "metadata": {},
     "output_type": "execute_result"
    },
    {
     "data": {
      "image/png": "[encoded data removed]",
      "text/plain": [
       "<Figure size 432x288 with 1 Axes>"
      ]
     },
     "metadata": {
      "needs_background": "light"
     },
     "output_type": "display_data"
    }
   ],
   "source": [
    "sns.barplot(x='age_range', y='investment_1',hue='gender', data = df)"
   ]
  },
  {
   "cell_type": "code",
   "execution_count": 11,
   "metadata": {},
   "outputs": [
    {
     "data": {
      "text/plain": [
       "<matplotlib.axes._subplots.AxesSubplot at 0x214312cf448>"
      ]
     },
     "execution_count": 11,
     "metadata": {},
     "output_type": "execute_result"
    },
    {
     "data": {
      "image/png": "[encoded data removed]",
      "text/plain": [
       "<Figure size 432x288 with 1 Axes>"
      ]
     },
     "metadata": {
      "needs_background": "light"
     },
     "output_type": "display_data"
    }
   ],
   "source": [
    "#Distribution of amount spent using credit card w.r.t account type\n",
    "df['credit spent amount']=df['cc_cons_apr']+df['cc_cons_may']+df['cc_cons_jun']\n",
    "sns.barplot(x='age_range', y='credit spent amount',hue='account_type', data = df)"
   ]
  },
  {
   "cell_type": "code",
   "execution_count": 12,
   "metadata": {},
   "outputs": [
    {
     "data": {
      "text/plain": [
       "<matplotlib.axes._subplots.AxesSubplot at 0x21431354e48>"
      ]
     },
     "execution_count": 12,
     "metadata": {},
     "output_type": "execute_result"
    },
    {
     "data": {
      "image/png": "[encoded data removed]",
      "text/plain": [
       "<Figure size 432x288 with 1 Axes>"
      ]
     },
     "metadata": {
      "needs_background": "light"
     },
     "output_type": "display_data"
    }
   ],
   "source": [
    "#Distribution of amount spent using credit card w.r.t account type\n",
    "sns.barplot(x='age_range', y='Amount Spent',hue='account_type', data = df)"
   ]
  },
  {
   "cell_type": "code",
   "execution_count": 13,
   "metadata": {},
   "outputs": [
    {
     "data": {
      "text/plain": [
       "<matplotlib.axes._subplots.AxesSubplot at 0x2143140a488>"
      ]
     },
     "execution_count": 13,
     "metadata": {},
     "output_type": "execute_result"
    },
    {
     "data": {
      "image/png": "[encoded data removed]",
      "text/plain": [
       "<Figure size 432x288 with 1 Axes>"
      ]
     },
     "metadata": {
      "needs_background": "light"
     },
     "output_type": "display_data"
    }
   ],
   "source": [
    "# #Distribution of Amount spent as per account type\n",
    "df['Amount Spent']=df['max_credit_amount_apr']+df['max_credit_amount_may']+df['max_credit_amount_jun']\n",
    "df.groupby(['Amount Spent','account_type'])['Amount Spent'].count()\n",
    "\n",
    "# # sns.catplot(x='account_type_current',y='Amount Spent', kind='bar', data=df)\n",
    "sns.barplot(x='account_type', y='Amount Spent', data = df)"
   ]
  },
  {
   "cell_type": "code",
   "execution_count": 14,
   "metadata": {},
   "outputs": [
    {
     "data": {
      "text/plain": [
       "<matplotlib.axes._subplots.AxesSubplot at 0x214314be308>"
      ]
     },
     "execution_count": 14,
     "metadata": {},
     "output_type": "execute_result"
    },
    {
     "data": {
      "image/png": "[encoded data removed]",
      "text/plain": [
       "<Figure size 432x288 with 1 Axes>"
      ]
     },
     "metadata": {
      "needs_background": "light"
     },
     "output_type": "display_data"
    }
   ],
   "source": [
    "#Age Histogram\n",
    "sns.distplot(df[\"age\"],bins=20)"
   ]
  },
  {
   "cell_type": "code",
   "execution_count": 15,
   "metadata": {},
   "outputs": [
    {
     "data": {
      "text/plain": [
       "<matplotlib.axes._subplots.AxesSubplot at 0x214313f9688>"
      ]
     },
     "execution_count": 15,
     "metadata": {},
     "output_type": "execute_result"
    },
    {
     "data": {
      "image/png": "[encoded data removed]",
      "text/plain": [
       "<Figure size 432x288 with 1 Axes>"
      ]
     },
     "metadata": {
      "needs_background": "light"
     },
     "output_type": "display_data"
    }
   ],
   "source": [
    "#Age Boxplot\n",
    "sns.boxplot(df['age'])"
   ]
  },
  {
   "cell_type": "code",
   "execution_count": 16,
   "metadata": {},
   "outputs": [
    {
     "data": {
      "text/plain": [
       "<matplotlib.axes._subplots.AxesSubplot at 0x214315bbd48>"
      ]
     },
     "execution_count": 16,
     "metadata": {},
     "output_type": "execute_result"
    },
    {
     "data": {
      "image/png": "[encoded data removed]",
      "text/plain": [
       "<Figure size 432x288 with 1 Axes>"
      ]
     },
     "metadata": {
      "needs_background": "light"
     },
     "output_type": "display_data"
    }
   ],
   "source": [
    "#Card Limit Frequesncy Distribution\n",
    "sns.distplot(df[\"card_lim\"],bins=20)\n"
   ]
  },
  {
   "cell_type": "code",
   "execution_count": 17,
   "metadata": {},
   "outputs": [
    {
     "data": {
      "text/plain": [
       "Credit Transaction Count  region_code  credit spent amount\n",
       "341.0                     708          35619.030              1\n",
       "65.0                      966          26686.320              1\n",
       "66.0                      464          30023.000              1\n",
       "                          448          38014.505              1\n",
       "                                       26659.720              1\n",
       "                                                             ..\n",
       "112.0                     274          8652.820               1\n",
       "                          270          19035.165              1\n",
       "                          269          85452.750              1\n",
       "                                       57586.770              1\n",
       "3.0                       505          101083.040             1\n",
       "Name: Credit Transaction Count, Length: 11455, dtype: int64"
      ]
     },
     "execution_count": 17,
     "metadata": {},
     "output_type": "execute_result"
    }
   ],
   "source": [
    "#which region code has highest Amount Spent using credit card but least number of transactions\n",
    "df['credit spent amount']=df['cc_cons_apr']+df['cc_cons_may']+df['cc_cons_jun']\n",
    "df['Debit spent amount']=df['dc_cons_apr']+df['dc_cons_may']+df['dc_cons_jun']\n",
    "df['Credit Transaction Count']=df['cc_count_apr']+df['cc_count_may']+df['cc_count_jun']\n",
    "df['Debit Transaction Count']=df['dc_count_apr']+df['dc_count_may']+df['dc_count_jun']\n",
    "df.columns\n",
    "df.groupby(['credit spent amount','region_code','Credit Transaction Count'])['credit spent amount'].count().sort_values(ascending=False)\n",
    "# df['credit spent amount'].max()\n",
    "df['Credit Transaction Count'].min()\n",
    "#df['credit spent amount'].min()\n",
    "df.groupby(['credit spent amount','region_code','Credit Transaction Count'])['credit spent amount'].count().sort_values(ascending=True)\n",
    "df.groupby(['Credit Transaction Count','region_code','credit spent amount'])['Credit Transaction Count'].count().sort_values(ascending=True)\n",
    "\n",
    "df.groupby(['Credit Transaction Count','region_code','credit spent amount'])['Credit Transaction Count'].count().sort_values(ascending=False)\n",
    "\n",
    "#Conclusions\n",
    "#Region Code 424 has maximum amount of transaction of 1161694.11 with number of Transcations using Credit card as 95( Avg ~ 12228) \n",
    "#Region Code 424 has minimum amount of transaction of 1544.870 with number of Transcations using Credit card as 192( Avg ~ 8)\n",
    "#Region Code 505 has minimum number of transactions using credit which is 3 and the amount spent is 101083.040( Avg ~ 33694)\n",
    "#Region Code 713 has maximum number of transactions using credit card which is 1220 and the amount spent is 66735.170( Avg ~ 55)\n",
    "\n",
    "#Hence we can Conclude Region code 505 is richest and Region code 424 is poor"
   ]
  },
  {
   "cell_type": "markdown",
   "metadata": {},
   "source": [
    "##Treating Ages"
   ]
  },
  {
   "cell_type": "code",
   "execution_count": 18,
   "metadata": {},
   "outputs": [
    {
     "name": "stdout",
     "output_type": "stream",
     "text": [
      "38.0\n"
     ]
    },
    {
     "data": {
      "text/plain": [
       "<matplotlib.axes._subplots.AxesSubplot at 0x214313f6548>"
      ]
     },
     "execution_count": 18,
     "metadata": {},
     "output_type": "execute_result"
    },
    {
     "data": {
      "image/png": "[encoded data removed]",
      "text/plain": [
       "<Figure size 1440x1080 with 1 Axes>"
      ]
     },
     "metadata": {
      "needs_background": "light"
     },
     "output_type": "display_data"
    }
   ],
   "source": [
    "#Dropping Rows with Age above 120\n",
    "df.drop(df[df['age'] > 120].index, inplace = True)\n",
    "#test_data.drop(test_data[test_data['age'] > 120].index, inplace = True)\n",
    "mode = df.loc[df.age <= 70, 'age'].median()\n",
    "print(mode)\n",
    "df.loc[df.age > 70, 'age'] = np.nan\n",
    "df['age'].fillna(38, inplace=True)\n",
    "\n",
    "#for feature engineering\n",
    "# median = df['age'].describe()Q1 = boston_df_o1.quantile(0.25)\n",
    "\n",
    "# print(median)\n",
    "# df['age'] > 100 \n",
    "# df = df['age'] > 100 .fillna(method='ffill')\n",
    "\n",
    "plt.figure(figsize=(20,15))\n",
    "sns.barplot(x='age',y='Amount Spent',data=df)\n"
   ]
  },
  {
   "cell_type": "code",
   "execution_count": 19,
   "metadata": {},
   "outputs": [],
   "source": [
    "\n",
    "df['dc_cons_avg']=(df[\"dc_cons_jun\"]+df[\"dc_cons_apr\"]+df[\"dc_cons_may\"])/3\n",
    "test_data['dc_cons_avg']=(test_data[\"dc_cons_jun\"]+test_data[\"dc_cons_apr\"]+test_data[\"dc_cons_may\"])/3\n",
    "df['cc_cons_avg']=(df[\"cc_cons_jun\"]+df[\"cc_cons_apr\"]+df[\"cc_cons_may\"])/3\n",
    "test_data['cc_cons_avg']=(test_data[\"cc_cons_jun\"]+test_data[\"cc_cons_apr\"]+test_data[\"cc_cons_may\"])/3\n",
    "df['investment']=df['investment_1']+df[\"investment_2\"]+df[\"investment_3\"]+df[\"investment_4\"]\n",
    "df[\"credit_count_total\"]=df[\"credit_count_apr\"]+df[\"credit_count_may\"]+df[\"credit_count_jun\"]\n",
    "df['debit_count_total']=df[\"debit_count_apr\"]+df[\"debit_count_may\"]+df[\"debit_count_jun\"]\n",
    "df[\"debit_amount_total\"]=df[\"debit_amount_apr\"]+df[\"debit_amount_may\"]+df[\"debit_amount_jun\"]\n",
    "test_data[\"debit_amount_total\"]=test_data[\"debit_amount_apr\"]+test_data[\"debit_amount_may\"]+test_data[\"debit_amount_jun\"]\n",
    "df[\"credit_amount_total\"]=df[\"credit_amount_apr\"]+df[\"credit_amount_may\"]+df[\"credit_amount_jun\"]"
   ]
  }
 ],
 "metadata": {
  "kernelspec": {
   "display_name": "Python 3",
   "language": "python",
   "name": "python3"
  },
  "language_info": {
   "codemirror_mode": {
    "name": "ipython",
    "version": 3
   },
   "file_extension": ".py",
   "mimetype": "text/x-python",
   "name": "python",
   "nbconvert_exporter": "python",
   "pygments_lexer": "ipython3",
   "version": "3.7.3"
  }
 },
 "nbformat": 4,
 "nbformat_minor": 2
}
